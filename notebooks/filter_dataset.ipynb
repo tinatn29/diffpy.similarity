{
 "cells": [
  {
   "cell_type": "code",
   "execution_count": 4,
   "id": "initial_id",
   "metadata": {
    "collapsed": true,
    "ExecuteTime": {
     "end_time": "2025-03-08T20:31:09.915145Z",
     "start_time": "2025-03-08T20:31:09.864225Z"
    }
   },
   "outputs": [
    {
     "name": "stdout",
     "output_type": "stream",
     "text": [
      "The autoreload extension is already loaded. To reload it, use:\n",
      "  %reload_ext autoreload\n"
     ]
    }
   ],
   "source": [
    "from pathlib import Path\n",
    "import json\n",
    "import numpy as np\n",
    "from pymatgen.core.structure import Structure\n",
    "\n",
    "%load_ext autoreload\n",
    "%autoreload 2"
   ]
  },
  {
   "cell_type": "code",
   "execution_count": 2,
   "outputs": [
    {
     "name": "stdout",
     "output_type": "stream",
     "text": [
      "1675\n"
     ]
    }
   ],
   "source": [
    "curr_path = Path().absolute()\n",
    "dataset_parent = curr_path.parent.parent / 'datasets' / 'similarity-datasets'\n",
    "\n",
    "element = 'Zr'\n",
    "file_path = dataset_parent / f'{element}_O_structures_all.json'\n",
    "# Open the JSON file\n",
    "with open(file_path, 'r') as file:\n",
    "    # Load JSON data into a Python dictionary\n",
    "    collection = json.load(file)\n",
    "    \n",
    "print(len(collection))\n",
    "# print number of structures in this collection"
   ],
   "metadata": {
    "collapsed": false,
    "ExecuteTime": {
     "end_time": "2025-03-08T20:29:28.007767Z",
     "start_time": "2025-03-08T20:29:27.173796Z"
    }
   },
   "id": "cd5f32bc5e8c8678"
  },
  {
   "cell_type": "code",
   "execution_count": 34,
   "outputs": [
    {
     "data": {
      "text/plain": "{'O', 'Zr'}"
     },
     "execution_count": 34,
     "metadata": {},
     "output_type": "execute_result"
    }
   ],
   "source": [
    "# extract a set of elements\n",
    "from pymatgen.core.structure import Structure\n",
    "test_key = list(collection.keys())[0]\n",
    "structure = Structure.from_dict(collection[test_key])\n",
    "element_set = {str(site.specie) for site in structure}\n",
    "element_set"
   ],
   "metadata": {
    "collapsed": false,
    "ExecuteTime": {
     "end_time": "2025-03-06T23:18:42.763905Z",
     "start_time": "2025-03-06T23:18:42.695Z"
    }
   },
   "id": "c5b556875bfe5139"
  },
  {
   "cell_type": "code",
   "execution_count": 35,
   "outputs": [
    {
     "data": {
      "text/plain": "           mp_id     composition     elements\n0     mp-1245318        Zr30 O60      {O, Zr}\n1      mp-755769          Zr4 O8      {O, Zr}\n2      mp-775935          Zr3 O6      {O, Zr}\n3      mp-775909          Zr2 O4      {O, Zr}\n4        mp-2574          Zr2 O4      {O, Zr}\n...          ...             ...          ...\n1670   mp-530787     Y6 Zr22 O53   {O, Zr, Y}\n1671   mp-531103     Y2 Zr24 O51   {O, Zr, Y}\n1672   mp-686417  Zr50 Sc12 O118  {O, Zr, Sc}\n1673   mp-684977        Zr27 O49      {O, Zr}\n1674   mp-765235    Zr32 N17 O39   {O, N, Zr}\n\n[1675 rows x 3 columns]",
      "text/html": "<div>\n<style scoped>\n    .dataframe tbody tr th:only-of-type {\n        vertical-align: middle;\n    }\n\n    .dataframe tbody tr th {\n        vertical-align: top;\n    }\n\n    .dataframe thead th {\n        text-align: right;\n    }\n</style>\n<table border=\"1\" class=\"dataframe\">\n  <thead>\n    <tr style=\"text-align: right;\">\n      <th></th>\n      <th>mp_id</th>\n      <th>composition</th>\n      <th>elements</th>\n    </tr>\n  </thead>\n  <tbody>\n    <tr>\n      <th>0</th>\n      <td>mp-1245318</td>\n      <td>Zr30 O60</td>\n      <td>{O, Zr}</td>\n    </tr>\n    <tr>\n      <th>1</th>\n      <td>mp-755769</td>\n      <td>Zr4 O8</td>\n      <td>{O, Zr}</td>\n    </tr>\n    <tr>\n      <th>2</th>\n      <td>mp-775935</td>\n      <td>Zr3 O6</td>\n      <td>{O, Zr}</td>\n    </tr>\n    <tr>\n      <th>3</th>\n      <td>mp-775909</td>\n      <td>Zr2 O4</td>\n      <td>{O, Zr}</td>\n    </tr>\n    <tr>\n      <th>4</th>\n      <td>mp-2574</td>\n      <td>Zr2 O4</td>\n      <td>{O, Zr}</td>\n    </tr>\n    <tr>\n      <th>...</th>\n      <td>...</td>\n      <td>...</td>\n      <td>...</td>\n    </tr>\n    <tr>\n      <th>1670</th>\n      <td>mp-530787</td>\n      <td>Y6 Zr22 O53</td>\n      <td>{O, Zr, Y}</td>\n    </tr>\n    <tr>\n      <th>1671</th>\n      <td>mp-531103</td>\n      <td>Y2 Zr24 O51</td>\n      <td>{O, Zr, Y}</td>\n    </tr>\n    <tr>\n      <th>1672</th>\n      <td>mp-686417</td>\n      <td>Zr50 Sc12 O118</td>\n      <td>{O, Zr, Sc}</td>\n    </tr>\n    <tr>\n      <th>1673</th>\n      <td>mp-684977</td>\n      <td>Zr27 O49</td>\n      <td>{O, Zr}</td>\n    </tr>\n    <tr>\n      <th>1674</th>\n      <td>mp-765235</td>\n      <td>Zr32 N17 O39</td>\n      <td>{O, N, Zr}</td>\n    </tr>\n  </tbody>\n</table>\n<p>1675 rows × 3 columns</p>\n</div>"
     },
     "execution_count": 35,
     "metadata": {},
     "output_type": "execute_result"
    }
   ],
   "source": [
    "compositions = []\n",
    "element_sets = []\n",
    "\n",
    "# Loop over collection \n",
    "for key, item in collection.items():\n",
    "    structure = Structure.from_dict(item)\n",
    "    element_set = {str(site.specie) for site in structure}\n",
    "    compositions.append(str(structure.composition))\n",
    "    element_sets.append({str(site.specie) for site in structure})\n",
    "    \n",
    "data_dict = {\n",
    "    'mp_id': list(collection.keys()),\n",
    "    'composition': compositions,\n",
    "    'elements': element_sets\n",
    "}\n",
    "\n",
    "import pandas as pd\n",
    "df = pd.DataFrame.from_dict(data_dict)\n",
    "df"
   ],
   "metadata": {
    "collapsed": false,
    "ExecuteTime": {
     "end_time": "2025-03-06T23:18:47.111693Z",
     "start_time": "2025-03-06T23:18:44.357282Z"
    }
   },
   "id": "3106d8ff0aa3418a"
  },
  {
   "cell_type": "code",
   "execution_count": 36,
   "outputs": [
    {
     "data": {
      "text/plain": "O_only\nFalse    1644\nTrue       31\nName: count, dtype: int64"
     },
     "execution_count": 36,
     "metadata": {},
     "output_type": "execute_result"
    }
   ],
   "source": [
    "df['O_only'] = df['elements'].apply(lambda x: x=={'O', element})\n",
    "df['O_only'].value_counts()"
   ],
   "metadata": {
    "collapsed": false,
    "ExecuteTime": {
     "end_time": "2025-03-06T23:18:47.195447Z",
     "start_time": "2025-03-06T23:18:47.110488Z"
    }
   },
   "id": "66e75ab6ce4dd8d9"
  },
  {
   "cell_type": "code",
   "execution_count": 37,
   "outputs": [
    {
     "name": "stdout",
     "output_type": "stream",
     "text": [
      "31\n"
     ]
    }
   ],
   "source": [
    "df_filtered = df[df['O_only'] == True].copy()\n",
    "filter_keys = list(df_filtered['mp_id'])\n",
    "collection_filtered = {key: collection[key] for key in filter_keys}\n",
    "print(len(collection_filtered))\n",
    "\n",
    "# Save to a JSON file\n",
    "with open(dataset_parent / f'{element}_O_only.json', 'w') as f:\n",
    "    json.dump(collection_filtered, f, indent=4)  # `indent=4` makes it human-readable"
   ],
   "metadata": {
    "collapsed": false,
    "ExecuteTime": {
     "end_time": "2025-03-06T23:18:48.595410Z",
     "start_time": "2025-03-06T23:18:48.530286Z"
    }
   },
   "id": "83ecde1f29044e5a"
  },
  {
   "cell_type": "code",
   "execution_count": 50,
   "outputs": [
    {
     "name": "stdout",
     "output_type": "stream",
     "text": [
      "31\n"
     ]
    }
   ],
   "source": [
    "# Filter for experimentally observed structures (lowest energy above Hull on MP)\n",
    "element = 'Zr'\n",
    "file_path = dataset_parent / f'{element}_O_only.json'\n",
    "# Open the JSON file\n",
    "with open(file_path, 'r') as file:\n",
    "    # Load JSON data into a Python dictionary\n",
    "    collection = json.load(file)\n",
    "print(len(collection))"
   ],
   "metadata": {
    "collapsed": false,
    "ExecuteTime": {
     "end_time": "2025-03-06T23:45:51.313636Z",
     "start_time": "2025-03-06T23:45:51.231315Z"
    }
   },
   "id": "63212f07313d5d5c"
  },
  {
   "cell_type": "code",
   "execution_count": 51,
   "outputs": [
    {
     "name": "stdout",
     "output_type": "stream",
     "text": [
      "10\n"
     ]
    }
   ],
   "source": [
    "# Zr filter for Zr-O and experimentally observed\n",
    "Zr_list = ['mp-14024', 'mp-2858', 'mp-561418', 'mp-1017', 'mp-1190186',\n",
    "           'mp-556605', 'mp-2574', 'mp-1565', 'mp-963', 'mp-10735']\n",
    "\n",
    "Ti_list = ['mp-1215', 'mp-8057', 'mp-390', 'mp-554098', 'mp-2591',\n",
    "           'mp-458', 'mp-1071163', 'mp-556754', 'mp-1188323', 'mp-1147']\n",
    "\n",
    "Si_list = ['mp-7000', 'mp-6930', 'mp-12787', 'mp-6945', 'mp-546794',\n",
    "           'mp-733790', 'mp-640556', 'mp-555235', 'mp-669426', 'mp-542814']\n",
    "\n",
    "common_keys = Zr_list\n",
    "collection_common = {key: collection[key] for key in common_keys}\n",
    "print(len(collection_common))\n",
    "# Save to a JSON file\n",
    "with open(dataset_parent / f'{element}_O_only_10_common.json', 'w') as f:\n",
    "    json.dump(collection_common, f, indent=4)  # `indent=4` makes it human-readable"
   ],
   "metadata": {
    "collapsed": false,
    "ExecuteTime": {
     "end_time": "2025-03-06T23:45:54.938613Z",
     "start_time": "2025-03-06T23:45:54.856992Z"
    }
   },
   "id": "ed057363a6675f09"
  },
  {
   "cell_type": "markdown",
   "source": [
    "# make CIF files"
   ],
   "metadata": {
    "collapsed": false
   },
   "id": "922ad37b05852996"
  },
  {
   "cell_type": "code",
   "execution_count": 5,
   "outputs": [
    {
     "name": "stdout",
     "output_type": "stream",
     "text": [
      "Done making CIFs for Ti: 124 files exported\n",
      "Done making CIFs for Si: 343 files exported\n",
      "Done making CIFs for Zr: 31 files exported\n"
     ]
    }
   ],
   "source": [
    "from pymatgen.io.cif import CifWriter\n",
    "\n",
    "elements = ['Ti', 'Si', 'Zr']\n",
    "# extension = 'O_only_10_common'\n",
    "extension = 'O_only'\n",
    "\n",
    "for element in elements:\n",
    "    file_path = dataset_parent / f'{element}_{extension}.json'\n",
    "    # Open the JSON file\n",
    "    with open(file_path, 'r') as file:\n",
    "        # Load JSON data into a Python dictionary\n",
    "        collection = json.load(file)\n",
    "        \n",
    "    folder_write_path = dataset_parent / 'CIFs' / f'{element}_{extension}'\n",
    "    # create directory if it doesn't exist\n",
    "    folder_write_path.mkdir(parents=True, exist_ok=True)\n",
    "    \n",
    "    for key, item in collection.items():\n",
    "        # write structure to CIF with pymatgen\n",
    "        structure = Structure.from_dict(item)\n",
    "        cif_writer = CifWriter(structure)\n",
    "        cif_writer.write_file(folder_write_path / f'{key}.cif')\n",
    "        \n",
    "    print(f\"Done making CIFs for {element}: {len(collection)} files exported\")"
   ],
   "metadata": {
    "collapsed": false,
    "ExecuteTime": {
     "end_time": "2025-03-08T20:31:22.354338Z",
     "start_time": "2025-03-08T20:31:20.059580Z"
    }
   },
   "id": "7a1e86ce6fc12265"
  },
  {
   "cell_type": "code",
   "execution_count": null,
   "outputs": [],
   "source": [],
   "metadata": {
    "collapsed": false
   },
   "id": "2334c6e620e9e71b"
  }
 ],
 "metadata": {
  "kernelspec": {
   "display_name": "Python 3",
   "language": "python",
   "name": "python3"
  },
  "language_info": {
   "codemirror_mode": {
    "name": "ipython",
    "version": 2
   },
   "file_extension": ".py",
   "mimetype": "text/x-python",
   "name": "python",
   "nbconvert_exporter": "python",
   "pygments_lexer": "ipython2",
   "version": "2.7.6"
  }
 },
 "nbformat": 4,
 "nbformat_minor": 5
}
